{
 "cells": [
  {
   "cell_type": "code",
   "execution_count": 1,
   "id": "4de8da66",
   "metadata": {},
   "outputs": [
    {
     "name": "stdout",
     "output_type": "stream",
     "text": [
      "[1 2 3 4]\n"
     ]
    }
   ],
   "source": [
    "import numpy as np\n",
    "\n",
    "a = np.array([1, 2, 3, 4])\n",
    "print(a)"
   ]
  },
  {
   "cell_type": "code",
   "execution_count": 2,
   "id": "d3d60700",
   "metadata": {},
   "outputs": [
    {
     "name": "stdout",
     "output_type": "stream",
     "text": [
      "[[1 2]\n",
      " [3 4]\n",
      " [5 6]]\n"
     ]
    }
   ],
   "source": [
    "b = np.array([[1, 2], [3, 4], [5, 6]])\n",
    "print(b)"
   ]
  },
  {
   "cell_type": "code",
   "execution_count": 4,
   "id": "6d018be9",
   "metadata": {},
   "outputs": [
    {
     "name": "stdout",
     "output_type": "stream",
     "text": [
      "[5 7 9]\n",
      "6\n",
      "2.0\n"
     ]
    }
   ],
   "source": [
    "a = np.array([1, 2, 3])\n",
    "b = np.array([4, 5, 6])\n",
    "c = a + b\n",
    "print(c)\n",
    "\n",
    "print(np.sum(a))\n",
    "print(np.mean(a))"
   ]
  },
  {
   "cell_type": "code",
   "execution_count": 6,
   "id": "e57f1cc5",
   "metadata": {},
   "outputs": [
    {
     "name": "stdout",
     "output_type": "stream",
     "text": [
      "[1 2 3]\n",
      "[[1]\n",
      " [2]\n",
      " [3]]\n",
      "[[2 3 4]\n",
      " [3 4 5]\n",
      " [4 5 6]]\n"
     ]
    }
   ],
   "source": [
    "a = np.array([1, 2, 3])\n",
    "print(a)\n",
    "b = np.array([[1], [2], [3]])\n",
    "print(b)\n",
    "\n",
    "result = a + b\n",
    "print(result)"
   ]
  },
  {
   "cell_type": "code",
   "execution_count": 8,
   "id": "6b8c8c92",
   "metadata": {},
   "outputs": [
    {
     "name": "stdout",
     "output_type": "stream",
     "text": [
      "Time taken using loop: 0.310446 seconds\n",
      "Time taken using NumPy vectorization: 0.002602 seconds\n"
     ]
    }
   ],
   "source": [
    "import numpy as np\n",
    "import time\n",
    "\n",
    "# Step 1: Define the size of the arrays\n",
    "# We will create two large arrays with 1 million elements each\n",
    "\n",
    "size = 1_000_000\n",
    "\n",
    "# Step 2: Create two random arrays using NumPy\n",
    "# These arrays will contain 'size' number of random floating point numbers between 0 and 1\n",
    "array1 = np.random.rand(size)\n",
    "array2 = np.random.rand(size)\n",
    "\n",
    "#------------- Method 1: Using a traditional Python loop -------------\n",
    "\n",
    "# Step 3: Record the start time for the loop-based operation\n",
    "start_time_loop = time.time()\n",
    "\n",
    "# Step 4: Initialize an empty NumPy array of zeros to store the results of the loop\n",
    "result_loop = np.zeros(size)\n",
    "\n",
    "# Step 5: Perform element-wise addition using a for-loop\n",
    "# Iterate through each index and add the corresponding elements from both arrays\n",
    "for i in range(size):\n",
    "    result_loop[i] = array1[i] + array2[i]\n",
    "\n",
    "# Step 6: Record the end time after the loop completes\n",
    "end_time_loop = time.time()\n",
    "\n",
    "# Step 7: Calculate the total time taken for the loop-based operation\n",
    "time_loop = end_time_loop - start_time_loop\n",
    "\n",
    "# ------------- Method 2: Using NumPy's vectorized operation -------------\n",
    "\n",
    "# Step 8: Record the start time for the NumPy vectorized operation\n",
    "start_time_vectorized = time.time()\n",
    "\n",
    "# Step 9: Perform element-wise addition using NumPy's built-in vectorization\n",
    "#This single line replaces the entire for-loop and is much faster\n",
    "result_vectorized = array1 + array2\n",
    "\n",
    "# Step 10: Record the end time after the vectorized operation completes\n",
    "end_time_vectorized = time.time()\n",
    "\n",
    "# Step 11: Calculate the total time taken for the vectorized operation\n",
    "time_vectorized = end_time_vectorized - start_time_vectorized\n",
    "\n",
    "# -------------- Output the results ---------------\n",
    "\n",
    "# Step 12: Print the time taken by the loop method\n",
    "print(f\"Time taken using loop: {time_loop:.6f} seconds\")\n",
    "\n",
    "# Step 13: Print the time taken by the NumPy vectorized method\n",
    "print(f\"Time taken using NumPy vectorization: {time_vectorized:.6f} seconds\")\n",
    "\n",
    "# Step 14: Comparison NumPy's vectorized operation should be much faster than the loop!"
   ]
  }
 ],
 "metadata": {
  "kernelspec": {
   "display_name": "venv",
   "language": "python",
   "name": "python3"
  },
  "language_info": {
   "codemirror_mode": {
    "name": "ipython",
    "version": 3
   },
   "file_extension": ".py",
   "mimetype": "text/x-python",
   "name": "python",
   "nbconvert_exporter": "python",
   "pygments_lexer": "ipython3",
   "version": "3.13.2"
  }
 },
 "nbformat": 4,
 "nbformat_minor": 5
}
