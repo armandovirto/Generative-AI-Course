{
 "cells": [
  {
   "cell_type": "markdown",
   "id": "f6b1da37",
   "metadata": {},
   "source": [
    "# Cheat Sheets: Bucles `while`, Bucles `for`, y Recursividad"
   ]
  },
  {
   "cell_type": "markdown",
   "id": "93d6c827",
   "metadata": {},
   "source": [
    "## Bucles `while`"
   ]
  },
  {
   "cell_type": "markdown",
   "id": "cfca4a64",
   "metadata": {},
   "source": [
    "\n",
    "### Estructura básica:\n",
    "```python\n",
    "while condición:\n",
    "    # Código a ejecutar mientras la condición sea verdadera\n",
    "```\n",
    "### Explicación:\n",
    "El bucle `while` ejecuta un bloque de código repetidamente **mientras** la condición sea verdadera.\n",
    "Es importante asegurarse de que la condición eventualmente sea falsa para evitar bucles infinitos.\n",
    "\n",
    "### Ejemplo:\n",
    "```python\n",
    "x = 1\n",
    "while x <= 5:\n",
    "    print(x)\n",
    "    x += 1  # Asegúrate de modificar la variable de control\n",
    "```\n"
   ]
  },
  {
   "cell_type": "code",
   "execution_count": null,
   "id": "09878243",
   "metadata": {},
   "outputs": [],
   "source": [
    "\n",
    "# Ejemplo de bucle while\n",
    "x = 1\n",
    "while x <= 5:\n",
    "    print(x)\n",
    "    x += 1\n"
   ]
  },
  {
   "cell_type": "markdown",
   "id": "8574b65f",
   "metadata": {},
   "source": [
    "## Bucles `for`"
   ]
  },
  {
   "cell_type": "markdown",
   "id": "9f12c774",
   "metadata": {},
   "source": [
    "\n",
    "### Estructura básica:\n",
    "```python\n",
    "for variable in iterable:\n",
    "    # Código a ejecutar para cada elemento en el iterable\n",
    "```\n",
    "\n",
    "### Explicación:\n",
    "El bucle `for` itera sobre un iterable (como una lista, rango, cadena de texto, etc.).\n",
    "La variable toma el valor de cada elemento en el iterable en cada iteración.\n",
    "\n",
    "### Ejemplo:\n",
    "```python\n",
    "for i in range(1, 6):\n",
    "    print(i)\n",
    "```\n"
   ]
  },
  {
   "cell_type": "code",
   "execution_count": null,
   "id": "c7803e5a",
   "metadata": {},
   "outputs": [],
   "source": [
    "\n",
    "# Ejemplo de bucle for\n",
    "for i in range(1, 6):\n",
    "    print(i)\n"
   ]
  },
  {
   "cell_type": "markdown",
   "id": "5f25b750",
   "metadata": {},
   "source": [
    "## Recursividad"
   ]
  },
  {
   "cell_type": "markdown",
   "id": "8d7b3373",
   "metadata": {},
   "source": [
    "\n",
    "### Estructura básica:\n",
    "```python\n",
    "def funcion(argumentos):\n",
    "    # Caso base (condición de parada)\n",
    "    if condición:\n",
    "        return valor\n",
    "    # Paso recursivo\n",
    "    return funcion(nuevo_argumento)\n",
    "```\n",
    "\n",
    "### Explicación:\n",
    "La **recursividad** es cuando una función se llama a sí misma.\n",
    "Una **condición de base** es necesaria para evitar que la función se llame infinitamente.\n",
    "\n",
    "### Ejemplo:\n",
    "```python\n",
    "def factorial(n):\n",
    "    if n == 1:  # Caso base\n",
    "        return 1\n",
    "    else:\n",
    "        return n * factorial(n - 1)  # Paso recursivo\n",
    "\n",
    "print(factorial(5))\n",
    "```\n"
   ]
  },
  {
   "cell_type": "code",
   "execution_count": null,
   "id": "e66415b1",
   "metadata": {},
   "outputs": [],
   "source": [
    "\n",
    "# Ejemplo de recursión (Factorial)\n",
    "def factorial(n):\n",
    "    if n == 1:\n",
    "        return 1\n",
    "    else:\n",
    "        return n * factorial(n - 1)\n",
    "\n",
    "print(factorial(5))\n"
   ]
  },
  {
   "cell_type": "markdown",
   "id": "09dc6ee4",
   "metadata": {},
   "source": [
    "## Ejercicios adicionales para practicar"
   ]
  },
  {
   "cell_type": "markdown",
   "id": "5a5ef397",
   "metadata": {},
   "source": [
    "\n",
    "1. **Bucle `while`:** Escribe un programa que cuente hacia atrás desde 10 hasta 1.\n",
    "2. **Bucle `for`:** Escribe un programa que imprima los primeros 10 números pares usando un bucle `for`.\n",
    "3. **Recursividad:** Escribe una función recursiva que calcule la potencia de un número (base^exponente).\n"
   ]
  }
 ],
 "metadata": {},
 "nbformat": 4,
 "nbformat_minor": 5
}
